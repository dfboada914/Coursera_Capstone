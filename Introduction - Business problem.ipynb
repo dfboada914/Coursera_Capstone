{
 "cells": [
  {
   "cell_type": "markdown",
   "metadata": {},
   "source": [
    "# The battle of Neighborhoods - Part I\n",
    "By David Boada"
   ]
  },
  {
   "cell_type": "markdown",
   "metadata": {},
   "source": [
    "## Description\n",
    "\n",
    "The problem is about a person who wants to buy a house in Toronto. So he needs to analyze the neighborhoods of the city to know which one has all the requirements that he needs. \n",
    "\n",
    "Mainly He needs a neighborhood where he can find at least 4 of the venues in the next categories: \n",
    "\n",
    "- Bar\n",
    "- Pharmacy\n",
    "- Gym\n",
    "- Bank\n",
    "- Coffee Shop\n",
    "- Restaurant\n",
    "\n",
    "This problem is important because I can create a tool where the people can find their perfect Neighborhood using the Foursquare data. Most of the people care about not only the characteristics of an apartment or a house like number of bedrooms, mts, floor, etc... but they care about the neighbor to know what kind of places they are near for, or what kind of places they can go to.\n",
    "\n",
    "For this problem I will use Python 3 and the Foursquare API to find the first 100 Venues from the neighborhoods of Toronto. Finally I will select the Neighborhoods to make a recommendation about where He can buy his new house. "
   ]
  },
  {
   "cell_type": "markdown",
   "metadata": {},
   "source": [
    "## The Data\n",
    "\n",
    "I will use multiple data sources to solve this problem.\n",
    "\n",
    "First, I will use the requests package to parse the data of a wikiedia page that contains all the information about\n",
    "the Postalcodes of Toronto, Canada including the Borough and the Neighborhoods.\n",
    "\n",
    "Then, I will use the Geocoder package to find the coordinates for each Neighborhood. With the coordinates I can create a map to see the distribution of the neighborhoods.\n",
    "\n",
    "Finally, I will use the Foursquare API to find the most common venues near each of the neighborhoods. With this data I will try to have a general description of the neighbor and I will select which has at least 4 of the categories that the client wants."
   ]
  }
 ],
 "metadata": {
  "kernelspec": {
   "display_name": "Python 3",
   "language": "python",
   "name": "python3"
  },
  "language_info": {
   "codemirror_mode": {
    "name": "ipython",
    "version": 3
   },
   "file_extension": ".py",
   "mimetype": "text/x-python",
   "name": "python",
   "nbconvert_exporter": "python",
   "pygments_lexer": "ipython3",
   "version": "3.6.5"
  }
 },
 "nbformat": 4,
 "nbformat_minor": 2
}
